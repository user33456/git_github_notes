{
 "cells": [
  {
   "cell_type": "markdown",
   "metadata": {
    "collapsed": true
   },
   "source": [
    "# git\n",
    "---------\n",
    "\n",
    "## [GIT CHEATSHEET](https://github.com/github/training-kit/blob/master/downloads/github-git-cheat-sheet.pdf)\n",
    "\n",
    "### `git version`"
   ]
  },
  {
   "cell_type": "code",
   "execution_count": 1,
   "metadata": {
    "collapsed": false
   },
   "outputs": [
    {
     "name": "stdout",
     "output_type": "stream",
     "text": [
      "git version 2.10.1 (Apple Git-78)\r\n"
     ]
    }
   ],
   "source": [
    "!git --version"
   ]
  },
  {
   "cell_type": "code",
   "execution_count": null,
   "metadata": {
    "collapsed": false
   },
   "outputs": [],
   "source": [
    "import os\n",
    "cwd = os.getcwd()\n",
    "print(cwd)"
   ]
  },
  {
   "cell_type": "markdown",
   "metadata": {},
   "source": [
    "## `git clone`\n",
    "\n",
    "### clone a repository  (copy repo to your local)"
   ]
  },
  {
   "cell_type": "code",
   "execution_count": 4,
   "metadata": {
    "collapsed": false
   },
   "outputs": [
    {
     "name": "stdout",
     "output_type": "stream",
     "text": [
      "Cloning into 'asteroids'...\n",
      "remote: Counting objects: 209, done.\u001b[K\n",
      "remote: Total 209 (delta 0), reused 0 (delta 0), pack-reused 209\u001b[K\n",
      "Receiving objects: 100% (209/209), 191.54 KiB | 0 bytes/s, done.\n",
      "Resolving deltas: 100% (127/127), done.\n"
     ]
    }
   ],
   "source": [
    "!git clone https://github.com/udacity/asteroids.git"
   ]
  },
  {
   "cell_type": "markdown",
   "metadata": {},
   "source": [
    "#### config git to have colored output"
   ]
  },
  {
   "cell_type": "code",
   "execution_count": 5,
   "metadata": {
    "collapsed": true
   },
   "outputs": [],
   "source": [
    "!git config --global color.ui auto"
   ]
  },
  {
   "cell_type": "markdown",
   "metadata": {},
   "source": [
    "## `git log` \n",
    "\n",
    "### will show recent commits"
   ]
  },
  {
   "cell_type": "code",
   "execution_count": 9,
   "metadata": {
    "collapsed": false
   },
   "outputs": [
    {
     "name": "stdout",
     "output_type": "stream",
     "text": [
      "/Users/Nima/Desktop/data_proj/Udacity/Electives/git/asteroids\n",
      "\u001b[33mcommit 3884eab839af1e82c44267484cf2945a766081f3\u001b[m\r\n",
      "Author: cbuckey <caroline@udacity.com>\r\n",
      "Date:   Fri Apr 29 12:33:05 2011 -0700\r\n",
      "\r\n",
      "    Add color\r\n",
      "\r\n",
      "\u001b[33mcommit 3e42136a76cf78c6c421cd720427bf6337c2d623\u001b[m\r\n",
      "Author: Doug McInnes <doug@dougmcinnes.com>\r\n",
      "Date:   Tue Mar 15 22:34:49 2011 -0700\r\n",
      "\r\n",
      "    now using requestAnimationFrame\r\n",
      "    \r\n",
      "    see this for more info:\r\n",
      "    http://paulirish.com/2011/requestanimationframe-for-smart-animating/\r\n",
      "\r\n",
      "\u001b[33mcommit 4035769377cce96a88d5c1167079e12f30492391\u001b[m\r\n",
      "Author: Doug McInnes <doug@dougmcinnes.com>\r\n",
      "Date:   Wed Jun 9 21:04:32 2010 -0700\r\n",
      "\r\n",
      "    frame interval was set wrong after game was paused\r\n",
      "\r\n",
      "\u001b[33mcommit 25ede836903881848fea811df5b687b59d962da3\u001b[m\r\n",
      "Author: Doug McInnes <doug@dougmcinnes.com>\r\n",
      "Date:   Wed May 26 23:52:00 2010 -0700\r\n",
      "\r\n",
      "    a couple missing ends with the ipad version\r\n",
      "\r\n",
      "\u001b[33mcommit df035382c41b4d0cda86a1aa30b53f15bef05b53\u001b[m\r\n",
      "Author: Doug McInnes <doug@dougmcinnes.com>\r\n",
      "Date:   Tue May 25 22:18:23 2010 -0700\r\n",
      "\r\n",
      "    I can't spell 'screen' apparently :)\r\n",
      "\r\n",
      "\u001b[33mcommit b0678b161fcf74467ed3a63110557e3d6229cfa6\u001b[m\r\n",
      "Author: cbuckey <caroline@udacity.com>\r\n",
      "Date:   Mon May 24 04:15:21 2010 -0700\r\n",
      "\r\n",
      "    Revert controls\r\n",
      "\r\n",
      "\u001b[33mcommit f19cb1b80fe27e938e4d72770ca0a42f25e99ecc\u001b[m\r\n",
      "Author: cbuckey <caroline@udacity.com>\r\n",
      "Date:   Mon May 24 04:03:05 2010 -0700\r\n",
      "\r\n",
      "    Fix typo in space\r\n",
      "\r\n",
      "\u001b[33mcommit 75928a98e18479b22b18888a33d36379f17b43c1\u001b[m\r\n",
      "Author: cbuckey <caroline@udacity.com>\r\n",
      "Date:   Mon May 24 03:54:42 2010 -0700\r\n",
      "\r\n",
      "    Use space for movement and enter for shooting\r\n",
      "\r\n",
      "\u001b[33mcommit ac83b72030d79cf35944125793efcbdf57d93635\u001b[m\r\n",
      "Author: Doug McInnes <doug@dougmcinnes.com>\r\n",
      "Date:   Sun May 23 00:01:21 2010 -0700\r\n",
      "\r\n",
      "    mostly finished ipad version\r\n",
      "\r\n",
      "\u001b[33mcommit 7ca48263473caac2d66c6b1e436474ca10ad9218\u001b[m\r\n",
      "Author: Doug McInnes <doug@dougmcinnes.com>\r\n",
      "Date:   Sat May 22 19:48:06 2010 -0700\r\n",
      "\r\n",
      "    trying to get div touch controls to work\r\n",
      "\r\n",
      "\u001b[33mcommit 3cb406e80c4133ee02999b9764a633b2d34bfdd6\u001b[m\r\n",
      "Author: Doug McInnes <doug@dougmcinnes.com>\r\n",
      "Date:   Sat May 15 22:38:40 2010 -0700\r\n",
      "\r\n",
      "    first pass at ipad controls\r\n",
      "\r\n",
      "\u001b[33mcommit fe7993e56fd8fa4aea19642f56b23f6d8590ee75\u001b[m\r\n",
      "Author: Doug McInnes <doug@dougmcinnes.com>\r\n",
      "Date:   Thu May 13 22:54:42 2010 -0700\r\n",
      "\r\n",
      "    now capturing down key so people don't accidently scroll the page\r\n",
      "\r\n",
      "\u001b[33mcommit 343935ff4f3853653f23e3694d64ffa3035ed1de\u001b[m\r\n",
      "Author: Doug McInnes <doug@dougmcinnes.com>\r\n",
      "Date:   Tue May 11 08:45:49 2010 -0700\r\n",
      "\r\n",
      "    added license\r\n",
      "\r\n",
      "\u001b[33mcommit 80f3bc7aab53d79640da819d9c1c7e05f9f57620\u001b[m\r\n",
      "Author: Doug McInnes <doug@dougmcinnes.com>\r\n",
      "Date:   Tue May 11 08:43:10 2010 -0700\r\n",
      "\r\n",
      "    increased canvas size\r\n",
      "\r\n",
      "\u001b[33mcommit 7dc3de00f48a2e6e55a6daf1ad045f3855672301\u001b[m\r\n",
      "Author: Doug McInnes <doug@dougmcinnes.com>\r\n",
      "Date:   Sat May 8 00:18:54 2010 -0700\r\n",
      "\r\n",
      "    made the framerate counter dumb but more accurate\r\n",
      "\r\n",
      "\u001b[33mcommit f077ea32d0b3da66ac4ac50701dbbadaca3852d7\u001b[m\r\n",
      "Author: Doug McInnes <doug@dougmcinnes.com>\r\n",
      "Date:   Wed May 5 22:03:26 2010 -0700\r\n",
      "\r\n",
      "    added pointInPolygon method for moz\r\n",
      "    \r\n",
      "    http://www.alienryderflex.com/polygon/\r\n",
      "\r\n",
      "\u001b[33mcommit 5cb7bed78103f04ba968c5dbf7567614369c326f\u001b[m\r\n",
      "Author: Doug McInnes <doug@dougmcinnes.com>\r\n",
      "Date:   Sun Apr 25 22:51:06 2010 -0700\r\n",
      "\r\n",
      "    added reverseTransform method\r\n",
      "    \r\n",
      "    mozilla switch so safari will still work\r\n",
      "\r\n",
      "\u001b[33mcommit a53b00a0f2a1463e087c757601a1069b0c6a0825\u001b[m\r\n",
      "Author: Doug McInnes <doug@dougmcinnes.com>\r\n",
      "Date:   Sat Apr 24 21:00:15 2010 -0700\r\n",
      "\r\n",
      "    trying to get ff collision detection working\r\n",
      "\r\n",
      "\u001b[33mcommit 1e4713684f1a0e71050ac8017ec83ad8295ba8cb\u001b[m\r\n",
      "Author: Doug McInnes <doug@dougmcinnes.com>\r\n",
      "Date:   Wed Apr 21 23:31:44 2010 -0700\r\n",
      "\r\n",
      "    matrix really only needs to be a 2x3\r\n",
      "\r\n",
      "\u001b[33mcommit 186453facdcc9a2411b744afecbdc4867ae6f67f\u001b[m\r\n",
      "Author: Doug McInnes <doug@dougmcinnes.com>\r\n",
      "Date:   Wed Apr 21 22:42:11 2010 -0700\r\n",
      "\r\n",
      "    small changes\r\n",
      "\r\n",
      "\u001b[33mcommit c0b670e3b1176bd1225a72433860bb66b49b556e\u001b[m\r\n",
      "Author: Doug McInnes <doug@dougmcinnes.com>\r\n",
      "Date:   Tue Apr 20 22:42:11 2010 -0700\r\n",
      "\r\n",
      "    you get 200 Quatloos for shooting a big flying saucer\r\n",
      "\r\n",
      "\u001b[33mcommit c808f10d3d55a43b245d4088c2368730b78e0616\u001b[m\r\n",
      "Author: Doug McInnes <doug@dougmcinnes.com>\r\n",
      "Date:   Tue Apr 20 22:33:47 2010 -0700\r\n",
      "\r\n",
      "    bigalien now crosses and disappears\r\n",
      "\r\n",
      "\u001b[33mcommit c58834574ff2f001c750ffa32b405a7b0ca7c514\u001b[m\r\n",
      "Author: Doug McInnes <doug@dougmcinnes.com>\r\n",
      "Date:   Tue Apr 20 21:51:36 2010 -0700\r\n",
      "\r\n",
      "    move lives out of Ship\r\n",
      "\r\n",
      "\u001b[33mcommit 4bb6bf0affdd9c9e01630b3c21ded752ccac37db\u001b[m\r\n",
      "Author: Doug McInnes <doug@dougmcinnes.com>\r\n",
      "Date:   Sun Apr 18 23:59:20 2010 -0700\r\n",
      "\r\n",
      "    whole lot of refactoring\r\n",
      "    \r\n",
      "    added Game object\r\n",
      "\r\n",
      "\u001b[33mcommit 5a54ab96bdf5d34ce2f4b9dab4678e258c3af1f0\u001b[m\r\n",
      "Author: Doug McInnes <doug@dougmcinnes.com>\r\n",
      "Date:   Mon Apr 12 23:14:45 2010 -0700\r\n",
      "\r\n",
      "    got the flying saucer working\r\n",
      "\r\n",
      "\u001b[33mcommit f421d99abd7ffd8b758a349f75061cf9edd4fda0\u001b[m\r\n",
      "Author: Doug McInnes <doug@dougmcinnes.com>\r\n",
      "Date:   Sun Apr 11 23:41:11 2010 -0700\r\n",
      "\r\n",
      "    made ship rotate faster\r\n",
      "\r\n",
      "\u001b[33mcommit 649ccbbcbe7b4d3b138b0c966e215184d42853ac\u001b[m\r\n",
      "Author: Doug McInnes <doug@dougmcinnes.com>\r\n",
      "Date:   Sun Mar 7 21:59:05 2010 -0800\r\n",
      "\r\n",
      "    collisions now work on dupes\r\n",
      "\r\n",
      "\u001b[33mcommit 1c3ea2d5999b602590613d6dbde212e3adfdc1e2\u001b[m\r\n",
      "Author: Doug McInnes <doug@dougmcinnes.com>\r\n",
      "Date:   Sun Mar 7 20:40:33 2010 -0800\r\n",
      "\r\n",
      "    no longer a border, duping rendering on the edges\r\n",
      "\r\n",
      "\u001b[33mcommit 18b3f7cc65c715b97cafa908d788c1dc2738c318\u001b[m\r\n",
      "Author: Doug McInnes <doug@dougmcinnes.com>\r\n",
      "Date:   Tue Mar 2 23:04:02 2010 -0800\r\n",
      "\r\n",
      "    alien is shootin' and dodgin'\r\n",
      "\r\n",
      "\u001b[33mcommit e2ecf58fe6175e31515c2c67d710cb73494b6a31\u001b[m\r\n",
      "Author: Doug McInnes <doug@dougmcinnes.com>\r\n",
      "Date:   Mon Mar 1 23:44:26 2010 -0800\r\n",
      "\r\n",
      "    start of alien invaders\r\n",
      "\r\n",
      "\u001b[33mcommit 79aafad0a0671acd8c0d798aeb757987b34c06f9\u001b[m\r\n",
      "Author: Doug McInnes <doug@dougmcinnes.com>\r\n",
      "Date:   Sun Feb 28 18:45:10 2010 -0800\r\n",
      "\r\n",
      "    sound FX!\r\n",
      "\r\n",
      "\u001b[33mcommit d9008563cc8407b81b0a4e3b31f12b9fe98b826d\u001b[m\r\n",
      "Author: Doug McInnes <doug@dougmcinnes.com>\r\n",
      "Date:   Sun Feb 21 21:24:13 2010 -0800\r\n",
      "\r\n",
      "    exhaust was showing on the extradudes\r\n",
      "\r\n",
      "\u001b[33mcommit 3c6ade8924fe9b5af9ef165d9e916a2442acca09\u001b[m\r\n",
      "Author: Doug McInnes <doug@dougmcinnes.com>\r\n",
      "Date:   Sun Feb 21 21:09:54 2010 -0800\r\n",
      "\r\n",
      "    added score and extra dude display\r\n",
      "\r\n",
      "\u001b[33mcommit c09083df0e01fcba70b73f4c3be61592120d2057\u001b[m\r\n",
      "Author: Doug McInnes <doug@dougmcinnes.com>\r\n",
      "Date:   Sun Feb 21 19:38:28 2010 -0800\r\n",
      "\r\n",
      "    added isClear method to Sprite, refactored\r\n",
      "\r\n",
      "\u001b[33mcommit b83411e908dfd9858090a46486a4d096ac0e7004\u001b[m\r\n",
      "Author: Doug McInnes <doug@dougmcinnes.com>\r\n",
      "Date:   Sun Feb 21 17:04:25 2010 -0800\r\n",
      "\r\n",
      "    now have full game states, complete with levels\r\n",
      "\r\n",
      "\u001b[33mcommit aa902007d3c4f509b6d6229a15a55a35752da4d2\u001b[m\r\n",
      "Author: Doug McInnes <doug@dougmcinnes.com>\r\n",
      "Date:   Sun Feb 21 16:03:10 2010 -0800\r\n",
      "\r\n",
      "    added game states, start/spawn, pause display\r\n",
      "\r\n",
      "\u001b[33mcommit 4be87fba143017119d79a312bbb95bae2e4743fe\u001b[m\r\n",
      "Author: Doug McInnes <doug@dougmcinnes.com>\r\n",
      "Date:   Sat Feb 20 23:58:26 2010 -0800\r\n",
      "\r\n",
      "    make the framerate less jittery\r\n",
      "\r\n",
      "\u001b[33mcommit 4e45b25d4c3ad5a8f7170232f0795b1991f8f959\u001b[m\r\n",
      "Author: Doug McInnes <doug@dougmcinnes.com>\r\n",
      "Date:   Sat Feb 20 23:36:08 2010 -0800\r\n",
      "\r\n",
      "    now we have a font\r\n",
      "\r\n",
      "\u001b[33mcommit 380230e9551a219867567b1a96e14a49aff2067a\u001b[m\r\n",
      "Author: Doug McInnes <doug@dougmcinnes.com>\r\n",
      "Date:   Thu Feb 18 21:55:40 2010 -0800\r\n",
      "\r\n",
      "    added collidesWith to the objects\r\n",
      "\r\n",
      "\u001b[33mcommit fe11dbcf4fec94503059d9be8eaa1bc2b7ae056d\u001b[m\r\n",
      "Author: Doug McInnes <doug@dougmcinnes.com>\r\n",
      "Date:   Mon Feb 15 23:45:25 2010 -0800\r\n",
      "\r\n",
      "    now using isPointInPath\r\n",
      "\r\n",
      "\u001b[33mcommit 48d2f98131ff2b6067bef673f11c8145d55b3ce0\u001b[m\r\n",
      "Author: Doug McInnes <doug@dougmcinnes.com>\r\n",
      "Date:   Sat Feb 13 00:53:27 2010 -0800\r\n",
      "\r\n",
      "    fixed short lived bullet bug\r\n",
      "\r\n",
      "\u001b[33mcommit 9b0222c1dde7106b73e067be0b9e3697c2017ef4\u001b[m\r\n",
      "Author: Doug McInnes <doug@dougmcinnes.com>\r\n",
      "Date:   Sat Feb 13 00:44:13 2010 -0800\r\n",
      "\r\n",
      "    using grid to limit collision calculations\r\n",
      "\r\n",
      "\u001b[33mcommit 050feddf6b3307ba17ba433110416fbc9b6064dc\u001b[m\r\n",
      "Author: Doug McInnes <doug@dougmcinnes.com>\r\n",
      "Date:   Fri Feb 12 23:35:50 2010 -0800\r\n",
      "\r\n",
      "    added grid, grid display, play/pause, die()\r\n",
      "\r\n",
      "\u001b[33mcommit f734752d9274101ebc996fef52b1541b314eac34\u001b[m\r\n",
      "Author: Doug McInnes <doug@dougmcinnes.com>\r\n",
      "Date:   Thu Feb 11 23:47:53 2010 -0800\r\n",
      "\r\n",
      "    doing things a little more OO\r\n",
      "\r\n",
      "\u001b[33mcommit ded14f61d9f6dacf41e7e17592071113c5dc50d8\u001b[m\r\n",
      "Author: Doug McInnes <doug@dougmcinnes.com>\r\n",
      "Date:   Tue Feb 9 23:21:37 2010 -0800\r\n",
      "\r\n",
      "    moved framerate inside canvas\r\n",
      "\r\n",
      "\u001b[33mcommit 948bf2f624f9ee4d6ea36cc91b5658a5f4844358\u001b[m\r\n",
      "Author: Doug McInnes <doug@dougmcinnes.com>\r\n",
      "Date:   Tue Feb 9 22:06:47 2010 -0800\r\n",
      "\r\n",
      "    push the roids out a bit when fragmenting\r\n",
      "\r\n",
      "\u001b[33mcommit 3a7623a14ccd4e15df3b3ff48fa35802b23101ab\u001b[m\r\n",
      "Author: Doug McInnes <doug@dougmcinnes.com>\r\n",
      "Date:   Tue Feb 9 21:52:43 2010 -0800\r\n",
      "\r\n",
      "    fix border bug\r\n",
      "\r\n",
      "\u001b[33mcommit 55cbfba21f94b7bb2a4856677a5fe90b6dfe93c4\u001b[m\r\n",
      "Author: Doug McInnes <doug@dougmcinnes.com>\r\n",
      "Date:   Tue Feb 9 21:39:05 2010 -0800\r\n",
      "\r\n",
      "    added explosions and the reap flag\r\n",
      "\r\n",
      "\u001b[33mcommit e0d680c14a76da6ad69c5d37d76c0662c595f967\u001b[m\r\n",
      "Author: Doug McInnes <doug@dougmcinnes.com>\r\n",
      "Date:   Sun Feb 7 22:49:20 2010 -0800\r\n",
      "\r\n",
      "    moved stuff around\r\n",
      "\r\n",
      "\u001b[33mcommit 05dcf62eb738a6e8c1fa8c0ce87b8192a619584d\u001b[m\r\n",
      "Author: Doug McInnes <doug@dougmcinnes.com>\r\n",
      "Date:   Sat Feb 6 22:29:56 2010 -0800\r\n",
      "\r\n",
      "    reimplemented using canvas alone\r\n",
      "    \r\n",
      "    crazy fast!\r\n",
      "\r\n",
      "\u001b[33mcommit 6ab384196a35df76663ffe1184ebd641404ced26\u001b[m\r\n",
      "Author: Doug McInnes <doug@dougmcinnes.com>\r\n",
      "Date:   Fri Feb 5 22:55:59 2010 -0800\r\n",
      "\r\n",
      "    fixed bullets\r\n",
      "\r\n",
      "\u001b[33mcommit ed98201aa6499901b22c50d72bc41c9a7acf308f\u001b[m\r\n",
      "Author: Doug McInnes <doug@dougmcinnes.com>\r\n",
      "Date:   Fri Feb 5 22:40:36 2010 -0800\r\n",
      "\r\n",
      "    changed the asteroid's scale and division factor\r\n",
      "    \r\n",
      "    3 levels instead of 4\r\n",
      "\r\n",
      "\u001b[33mcommit 73af53a43bb09dcc6600478898c18cae53e57cf5\u001b[m\r\n",
      "Author: Doug McInnes <doug@dougmcinnes.com>\r\n",
      "Date:   Fri Feb 5 22:24:04 2010 -0800\r\n",
      "\r\n",
      "    executing moves with a delta\r\n",
      "\r\n",
      "\u001b[33mcommit 2cbed111f11f6b6d6bf2722a62c79d38a9230aa5\u001b[m\r\n",
      "Author: Doug McInnes <doug@dougmcinnes.com>\r\n",
      "Date:   Fri Feb 5 21:52:35 2010 -0800\r\n",
      "\r\n",
      "    added ship death, break apart asteroids\r\n",
      "    \r",
      "\r\n",
      "    plus FPS readout\r\n",
      "\r\n",
      "\u001b[33mcommit 422b6ff90fcb583723be937f2ed4809c5a651b98\u001b[m\r\n",
      "Author: Doug McInnes <doug@dougmcinnes.com>\r\n",
      "Date:   Sun Jan 31 17:28:49 2010 -0800\r\n",
      "\r\n",
      "    collisions!\r\n",
      "\r\n",
      "\u001b[33mcommit 4ebf2fd4ece158715bd9fc39205ba33d4d2c119b\u001b[m\r\n",
      "Author: Doug McInnes <doug@dougmcinnes.com>\r\n",
      "Date:   Sun Jan 31 16:38:49 2010 -0800\r\n",
      "\r\n",
      "    asteroids\r\n",
      "\r\n",
      "\u001b[33mcommit 292faae8b1d912f93f3194f107acaabc6194ef96\u001b[m\r\n",
      "Author: dmcinnes <doug@dougmcinnes.com>\r\n",
      "Date:   Sun Jan 31 12:49:10 2010 -0800\r\n",
      "\r\n",
      "    added bullets\r\n",
      "\r\n",
      "\u001b[33mcommit daebb756018ed433d7d5986efaef2bc56cc13188\u001b[m\r\n",
      "Author: dmcinnes <doug@dougmcinnes.com>\r\n",
      "Date:   Sun Jan 31 12:49:10 2010 -0800\r\n",
      "\r\n",
      "    added bullets\r\n",
      "\r\n",
      "\u001b[33mcommit fc72f921a60dddf4c897510207abc07a8d1980ba\u001b[m\r\n",
      "Author: cbuckey <caroline@udacity.com>\r\n",
      "Date:   Fri Aug 29 12:44:30 2014 -0700\r\n",
      "\r\n",
      "    Add README\r\n",
      "\r\n",
      "\u001b[33mcommit 505f221335ebb40a9f0cbfeec035bdf73c099318\u001b[m\r\n",
      "Author: dmcinnes <doug@dougmcinnes.com>\r\n",
      "Date:   Sun Jan 31 11:50:20 2010 -0800\r\n",
      "\r\n",
      "    initial add\r\n"
     ]
    }
   ],
   "source": [
    "# cd to the asteroids directory\n",
    "\n",
    "!git log"
   ]
  },
  {
   "cell_type": "markdown",
   "metadata": {},
   "source": [
    "## `git diff  ` \n",
    "\n",
    "### compare two commits from above"
   ]
  },
  {
   "cell_type": "code",
   "execution_count": 10,
   "metadata": {
    "collapsed": false
   },
   "outputs": [
    {
     "name": "stdout",
     "output_type": "stream",
     "text": [
      "\u001b[1mdiff --git a/game.js b/game.js\u001b[m\r\n",
      "\u001b[1mindex cd70fed..20be658 100644\u001b[m\r\n",
      "\u001b[1m--- a/game.js\u001b[m\r\n",
      "\u001b[1m+++ b/game.js\u001b[m\r\n",
      "\u001b[36m@@ -392,7 +392,7 @@\u001b[m \u001b[mShip = function () {\u001b[m\r\n",
      "       this.vel.rot = 0;\u001b[m\r\n",
      "     }\u001b[m\r\n",
      " \u001b[m\r\n",
      "\u001b[31m-    if (KEY_STATUS.spacr) {\u001b[m\r\n",
      "\u001b[32m+\u001b[m\u001b[32m    if (KEY_STATUS.space) {\u001b[m\r\n",
      "       var rad = ((this.rot-90) * Math.PI)/180;\u001b[m\r\n",
      "       this.acc.x = 0.5 * Math.cos(rad);\u001b[m\r\n",
      "       this.acc.y = 0.5 * Math.sin(rad);\u001b[m\r\n"
     ]
    }
   ],
   "source": [
    "!git diff 75928a98e18479b22b18888a33d36379f17b43c1 f19cb1b80fe27e938e4d72770ca0a42f25e99ecc"
   ]
  },
  {
   "cell_type": "markdown",
   "metadata": {},
   "source": [
    "__`git checkout <commit_id>`__ will update all the files to a previous commit with the id mentioned."
   ]
  },
  {
   "cell_type": "markdown",
   "metadata": {},
   "source": [
    "Some personalization has been done using the `~/.bash_profile`."
   ]
  },
  {
   "cell_type": "markdown",
   "metadata": {},
   "source": [
    "## Make a new git repository\n",
    "----------\n",
    "## `git init`\n",
    "\n",
    "Using `git init` in a new directory (empty of with files) you create a new git repository."
   ]
  },
  {
   "cell_type": "code",
   "execution_count": null,
   "metadata": {
    "collapsed": false
   },
   "outputs": [],
   "source": [
    "# cd to the asteroids directory\n",
    "\n",
    "!git init"
   ]
  },
  {
   "cell_type": "markdown",
   "metadata": {},
   "source": [
    "## `git status`"
   ]
  },
  {
   "cell_type": "code",
   "execution_count": 16,
   "metadata": {
    "collapsed": false
   },
   "outputs": [
    {
     "name": "stdout",
     "output_type": "stream",
     "text": [
      "On branch master\r\n",
      "\r\n",
      "Initial commit\r\n",
      "\r\n",
      "Untracked files:\r\n",
      "  (use \"git add <file>...\" to include in what will be committed)\r\n",
      "\r\n",
      "\t\u001b[31mtest.md\u001b[m\r\n",
      "\r\n",
      "nothing added to commit but untracked files present (use \"git add\" to track)\r\n"
     ]
    }
   ],
   "source": [
    "!git status"
   ]
  },
  {
   "cell_type": "markdown",
   "metadata": {},
   "source": [
    "## `git add`   "
   ]
  },
  {
   "cell_type": "code",
   "execution_count": 20,
   "metadata": {
    "collapsed": true
   },
   "outputs": [],
   "source": [
    "# Adding files to the stagin area ready to be commited\n",
    "\n",
    "!git add test.md\n",
    "!git add new_file.txt"
   ]
  },
  {
   "cell_type": "code",
   "execution_count": 21,
   "metadata": {
    "collapsed": false
   },
   "outputs": [
    {
     "name": "stdout",
     "output_type": "stream",
     "text": [
      "On branch master\r\n",
      "\r\n",
      "Initial commit\r\n",
      "\r\n",
      "Changes to be committed:\r\n",
      "  (use \"git rm --cached <file>...\" to unstage)\r\n",
      "\r\n",
      "\t\u001b[32mnew file:   new_file.txt\u001b[m\r\n",
      "\t\u001b[32mnew file:   test.md\u001b[m\r\n",
      "\r\n"
     ]
    }
   ],
   "source": [
    "# Now let's check the status again and see the staging area:\n",
    "\n",
    "!git status"
   ]
  },
  {
   "cell_type": "markdown",
   "metadata": {},
   "source": [
    "Note that you can remove files from the staging area by using __`  git reset <file>`__"
   ]
  },
  {
   "cell_type": "markdown",
   "metadata": {},
   "source": [
    "## `git commit`\n",
    "\n",
    "The `staging area` is an area we first put all the files we want to commit. Then we will commit the whole staging area in a single commit command."
   ]
  },
  {
   "cell_type": "markdown",
   "metadata": {},
   "source": [
    "![title](git_commit_staging.tiff)"
   ]
  },
  {
   "cell_type": "code",
   "execution_count": 22,
   "metadata": {
    "collapsed": false
   },
   "outputs": [
    {
     "name": "stdout",
     "output_type": "stream",
     "text": [
      "[master (root-commit) 711b3dc] Feat: Add new files to the new repo\r\n",
      " 2 files changed, 7 insertions(+)\r\n",
      " create mode 100644 new_file.txt\r\n",
      " create mode 100644 test.md\r\n"
     ]
    }
   ],
   "source": [
    "# Now let's commit all the files in the staging area:\n",
    "\n",
    "!git commit -m \"Feat: Add new files to the new repo\""
   ]
  },
  {
   "cell_type": "code",
   "execution_count": null,
   "metadata": {
    "collapsed": false
   },
   "outputs": [],
   "source": [
    "!git log"
   ]
  },
  {
   "cell_type": "code",
   "execution_count": 24,
   "metadata": {
    "collapsed": false
   },
   "outputs": [
    {
     "name": "stdout",
     "output_type": "stream",
     "text": [
      "On branch master\r\n",
      "nothing to commit, working tree clean\r\n"
     ]
    }
   ],
   "source": [
    "!git status"
   ]
  },
  {
   "cell_type": "markdown",
   "metadata": {},
   "source": [
    "## `git diff`"
   ]
  },
  {
   "cell_type": "markdown",
   "metadata": {},
   "source": [
    "![title](git_diff.tiff)"
   ]
  },
  {
   "cell_type": "markdown",
   "metadata": {},
   "source": [
    "   - __`git diff id1 id2`__ : compares two commits in repo\n",
    "   - __`git diff`__ : compares everything in the working direcotry with the staging area\n",
    "   - __`git diff --staged`__ : compares everything in staging area to the last commit of the repo"
   ]
  },
  {
   "cell_type": "markdown",
   "metadata": {},
   "source": [
    "__Note:__ The staging area is the exact copy of the last commit until it is changed. So if after a commit a file is changed in the working directory. a __`git diff`__ would perfectly compare all the new changes in the working directory to the staging area which is the same as the last commit."
   ]
  },
  {
   "cell_type": "code",
   "execution_count": 28,
   "metadata": {
    "collapsed": false
   },
   "outputs": [
    {
     "name": "stdout",
     "output_type": "stream",
     "text": [
      "\u001b[1mdiff --git a/test.md b/test.md\u001b[m\r\n",
      "\u001b[1mindex d2257f8..46ca4c1 100644\u001b[m\r\n",
      "\u001b[1m--- a/test.md\u001b[m\r\n",
      "\u001b[1m+++ b/test.md\u001b[m\r\n",
      "\u001b[36m@@ -2,3 +2,4 @@\u001b[m \u001b[mHow did viewing a diff between two versions of a file help you see the bug that\u001b[m\r\n",
      " \u001b[m\r\n",
      "    - It was very helpful\u001b[m\r\n",
      " \u001b[m\r\n",
      "\u001b[32m+\u001b[m\u001b[32m__This is a small change I added__\u001b[m\u001b[41m \u001b[m\r\n",
      "\\ No newline at end of file\u001b[m\r\n"
     ]
    }
   ],
   "source": [
    "!git diff"
   ]
  },
  {
   "cell_type": "markdown",
   "metadata": {},
   "source": [
    "__Note:__ if you check out an old commit the __HEAD would be 'detached'__ to fix that you can run __`git checkout master`__ before you commit so your commit would know where to go to."
   ]
  },
  {
   "cell_type": "markdown",
   "metadata": {},
   "source": [
    "# Branching and Merging\n",
    "\n",
    "## [Tutorial](https://www.atlassian.com/git/tutorials/using-branches)  <-- useful\n",
    "\n",
    "![title](Branching.png)\n",
    "\n",
    "![title](git_workflow.jpg)"
   ]
  },
  {
   "cell_type": "markdown",
   "metadata": {},
   "source": [
    "## `git branch`"
   ]
  },
  {
   "cell_type": "code",
   "execution_count": 30,
   "metadata": {
    "collapsed": false
   },
   "outputs": [
    {
     "name": "stdout",
     "output_type": "stream",
     "text": [
      "* \u001b[32mmaster\u001b[m\r\n"
     ]
    }
   ],
   "source": [
    "# Run git branch to see the existing branches \n",
    "\n",
    "!git branch"
   ]
  },
  {
   "cell_type": "code",
   "execution_count": 31,
   "metadata": {
    "collapsed": true
   },
   "outputs": [],
   "source": [
    "# CREATE a new branch by\n",
    "\n",
    "!git branch feature1"
   ]
  },
  {
   "cell_type": "code",
   "execution_count": 32,
   "metadata": {
    "collapsed": false
   },
   "outputs": [
    {
     "name": "stdout",
     "output_type": "stream",
     "text": [
      "  feature1\u001b[m\r\n",
      "* \u001b[32mmaster\u001b[m\r\n"
     ]
    }
   ],
   "source": [
    "# When running the git branch. The branch with a * in front of it\n",
    "# is the current branch\n",
    "\n",
    "!git branch"
   ]
  },
  {
   "cell_type": "markdown",
   "metadata": {},
   "source": [
    "## `git checkout`\n",
    "\n",
    "To switch between branches you use git checkout. Note that once you check out the versions of the files in the working directory will change to reflect the branch you are switching to."
   ]
  },
  {
   "cell_type": "code",
   "execution_count": 33,
   "metadata": {
    "collapsed": false
   },
   "outputs": [
    {
     "name": "stdout",
     "output_type": "stream",
     "text": [
      "M\ttest.md\r\n",
      "Switched to branch 'feature1'\r\n"
     ]
    }
   ],
   "source": [
    "!git checkout feature1"
   ]
  },
  {
   "cell_type": "code",
   "execution_count": 34,
   "metadata": {
    "collapsed": false
   },
   "outputs": [
    {
     "name": "stdout",
     "output_type": "stream",
     "text": [
      "* \u001b[32mfeature1\u001b[m\r\n",
      "  master\u001b[m\r\n"
     ]
    }
   ],
   "source": [
    "!git branch"
   ]
  },
  {
   "cell_type": "markdown",
   "metadata": {},
   "source": [
    "Next I made some changes to the files and commited my changes to the feature1 branch using `git add` and `git commit`"
   ]
  },
  {
   "cell_type": "markdown",
   "metadata": {},
   "source": [
    "## `git log --graph`\n",
    "\n",
    "This is a way to visualize the branches and commits:"
   ]
  },
  {
   "cell_type": "code",
   "execution_count": 35,
   "metadata": {
    "collapsed": false
   },
   "outputs": [
    {
     "name": "stdout",
     "output_type": "stream",
     "text": [
      "* \u001b[33m34cd5db\u001b[m\u001b[33m (\u001b[m\u001b[1;36mHEAD -> \u001b[m\u001b[1;32mmaster\u001b[m\u001b[33m)\u001b[m master update with new surprise file and other changes after the feature1 branched out\r\n",
      "\u001b[31m|\u001b[m * \u001b[33mf54510c\u001b[m\u001b[33m (\u001b[m\u001b[1;32mfeature1\u001b[m\u001b[33m)\u001b[m feature1 changes commited\r\n",
      "\u001b[31m|\u001b[m\u001b[31m/\u001b[m  \r\n",
      "* \u001b[33m711b3dc\u001b[m Feat: Add new files to the new repo\r\n"
     ]
    }
   ],
   "source": [
    "!git log --graph --decorate --oneline master feature1"
   ]
  },
  {
   "cell_type": "markdown",
   "metadata": {},
   "source": [
    "__NOTE:__ If you checkout a previous commit and want to work on that. You should make a branch from that commit. Otherwise, if you make changes and make another commit based on that. Then without merging anything move to - say - tip of master, then your recent commit is kind of lost (unless you wrote down the commit id)."
   ]
  },
  {
   "cell_type": "markdown",
   "metadata": {},
   "source": [
    "![title](prev_commit.tiff)"
   ]
  },
  {
   "cell_type": "markdown",
   "metadata": {},
   "source": [
    "## `git merge`"
   ]
  },
  {
   "cell_type": "markdown",
   "metadata": {},
   "source": [
    "Also, since the two branches are merged, the order in which they are typed into the command line does not matter. The key is to remember that git merge always merges all the specified branches into the currently checked out branch, creating a new commit for that branch.\n",
    "\n",
    "for example if you want to __merge `feature1` branch into `master` branch__, then type:\n",
    "\n",
    "`git checkout master`  \n",
    "`git merge feature1 master`"
   ]
  },
  {
   "cell_type": "code",
   "execution_count": 38,
   "metadata": {
    "collapsed": false
   },
   "outputs": [
    {
     "name": "stdout",
     "output_type": "stream",
     "text": [
      "Already on 'master'\n",
      "Auto-merging test.md\n",
      "CONFLICT (content): Merge conflict in test.md\n",
      "Auto-merging new_file.txt\n",
      "CONFLICT (content): Merge conflict in new_file.txt\n",
      "Automatic merge failed; fix conflicts and then commit the result.\n"
     ]
    }
   ],
   "source": [
    "# Let's merge the feature1 branch into the master branch at this point:\n",
    "\n",
    "!git checkout master\n",
    "!git merge feature1 master"
   ]
  },
  {
   "cell_type": "markdown",
   "metadata": {},
   "source": [
    "#### Merging failed. So let's revert the merge."
   ]
  },
  {
   "cell_type": "code",
   "execution_count": 39,
   "metadata": {
    "collapsed": true
   },
   "outputs": [],
   "source": [
    "#Reverting the failed marge:\n",
    "\n",
    "!git merge --abort"
   ]
  },
  {
   "cell_type": "markdown",
   "metadata": {},
   "source": [
    "### How to resolve a failed merge??\n",
    "\n",
    "\n"
   ]
  },
  {
   "cell_type": "code",
   "execution_count": 40,
   "metadata": {
    "collapsed": false
   },
   "outputs": [
    {
     "name": "stdout",
     "output_type": "stream",
     "text": [
      "On branch master\r\n",
      "You have unmerged paths.\r\n",
      "  (fix conflicts and run \"git commit\")\r\n",
      "  (use \"git merge --abort\" to abort the merge)\r\n",
      "\r\n",
      "Unmerged paths:\r\n",
      "  (use \"git add <file>...\" to mark resolution)\r\n",
      "\r\n",
      "\t\u001b[31mboth modified:   new_file.txt\u001b[m\r\n",
      "\t\u001b[31mboth modified:   test.md\u001b[m\r\n",
      "\r\n",
      "no changes added to commit (use \"git add\" and/or \"git commit -a\")\r\n"
     ]
    }
   ],
   "source": [
    "!git status"
   ]
  },
  {
   "cell_type": "markdown",
   "metadata": {},
   "source": [
    "__Note:__ in the above that it says __\"both modified\"__ meaning the file was modified in both branches and git can not decide what to do. So you need to jump in and manually fix things."
   ]
  },
  {
   "cell_type": "code",
   "execution_count": null,
   "metadata": {
    "collapsed": false
   },
   "outputs": [],
   "source": [
    "# At this point you need to manually looked at the files with the extra markup that git created and decide how you \n",
    "# want to manually edit the file to decide what you want the merge to look like\n",
    "\n",
    "\"\"\"\n",
    "\n",
    "<<<<<<< HEAD\n",
    "Section unique to the branch you are merging __into__\n",
    "=======\n",
    "Section unique to the branch the is being merged\n",
    ">>>>>>> branch_name\n",
    "\n",
    "\"\"\""
   ]
  },
  {
   "cell_type": "markdown",
   "metadata": {},
   "source": [
    "Next you will commit the manual merge that you have performed."
   ]
  },
  {
   "cell_type": "code",
   "execution_count": 42,
   "metadata": {
    "collapsed": false
   },
   "outputs": [
    {
     "name": "stdout",
     "output_type": "stream",
     "text": [
      "[master a7dfa8a] Manually resolved the merge issue and merged feature1 into master\r\n"
     ]
    }
   ],
   "source": [
    "!git add new_file.txt\n",
    "!git add test.md\n",
    "!git commit -m \"Manually resolved the merge issue and merged feature1 into master\""
   ]
  },
  {
   "cell_type": "code",
   "execution_count": 43,
   "metadata": {
    "collapsed": false
   },
   "outputs": [
    {
     "name": "stdout",
     "output_type": "stream",
     "text": [
      "*   \u001b[33ma7dfa8a\u001b[m\u001b[33m (\u001b[m\u001b[1;36mHEAD -> \u001b[m\u001b[1;32mmaster\u001b[m\u001b[33m)\u001b[m Manually resolved the merge issue and merged feature1 into master\r\n",
      "\u001b[31m|\u001b[m\u001b[32m\\\u001b[m  \r\n",
      "\u001b[31m|\u001b[m * \u001b[33m47d42ca\u001b[m\u001b[33m (\u001b[m\u001b[1;32mfeature1\u001b[m\u001b[33m)\u001b[m some changes to feature1 to maybe resolve the conflict of merging it with master?\r\n",
      "\u001b[31m|\u001b[m * \u001b[33mf54510c\u001b[m feature1 changes commited\r\n",
      "* \u001b[32m|\u001b[m \u001b[33m34cd5db\u001b[m master update with new surprise file and other changes after the feature1 branched out\r\n",
      "\u001b[32m|\u001b[m\u001b[32m/\u001b[m  \r\n",
      "* \u001b[33m711b3dc\u001b[m Feat: Add new files to the new repo\r\n"
     ]
    }
   ],
   "source": [
    "!git log --graph --decorate --oneline master feature1"
   ]
  },
  {
   "cell_type": "markdown",
   "metadata": {},
   "source": [
    "Note that at this point you can remove the branch feature1 if you want. Issuing the __`git branch -d feature1`__ will __NOT__ delete the commits in that branch, it will just remove the branch label. All the commits are at this point accessible fromt he master branch as you can see above. So you may decide that you don't want to keep the feature1 label for that branch anymore."
   ]
  },
  {
   "cell_type": "markdown",
   "metadata": {},
   "source": [
    "## `git show`\n",
    "\n",
    "To compare any commit against its parent (to see the incremental changes in its own branch) run:\n",
    "\n",
    "`git show <commid_id>`"
   ]
  },
  {
   "cell_type": "markdown",
   "metadata": {},
   "source": [
    "# GitHub\n",
    "--------"
   ]
  },
  {
   "cell_type": "markdown",
   "metadata": {},
   "source": [
    "## `git remote` & `git push`\n",
    "\n",
    "   1) Sign-in to your github online and create a new repo  \n",
    "   2) Get the address of the repo: e.g https://github.com/user33456/reflections.git  \n",
    "   3) If you want to create a new repository locally (i.e if you don't already have one you want to push):  \n",
    "      - echo \"# reflections\" >> README.md\n",
    "      git init\n",
    "      git add README.md\n",
    "      git commit -m \"first commit\"\n",
    "      git remote add origin https://github.com/user33456/reflections.git\n",
    "      git push -u origin master"
   ]
  },
  {
   "cell_type": "markdown",
   "metadata": {},
   "source": [
    "To summarize:\n",
    "    \n",
    "__CREATE local git repo__    \n",
    "   - `git init` $\\implies$ `git add` $\\implies$ `git commit`\n",
    "   \n",
    "__Send repo to github__\n",
    "   - Create a repo online and get `<address>`\n",
    "   - `git remote add <remote_name> <address>` $\\implies$ `git push -u <remote_name> <branch>`\n",
    "      - e.g `git remote add origin https:...` $\\implies$  `git push -u origins master`\n",
    "   "
   ]
  },
  {
   "cell_type": "code",
   "execution_count": 44,
   "metadata": {
    "collapsed": true
   },
   "outputs": [],
   "source": [
    "#Adding the reflections repo as a remote (called origins) to the local repository that I can \"push\" to whenever I want.\n",
    "\n",
    "!git remote add origin https://github.com/user33456/reflections.git\n"
   ]
  },
  {
   "cell_type": "code",
   "execution_count": 47,
   "metadata": {
    "collapsed": false
   },
   "outputs": [
    {
     "name": "stdout",
     "output_type": "stream",
     "text": [
      "origin\thttps://github.com/user33456/reflections.git (fetch)\r\n",
      "origin\thttps://github.com/user33456/reflections.git (push)\r\n"
     ]
    }
   ],
   "source": [
    "!git remote -v"
   ]
  },
  {
   "cell_type": "code",
   "execution_count": null,
   "metadata": {
    "collapsed": false
   },
   "outputs": [],
   "source": [
    "#Push the master branch onto this origins remote on the github:\n",
    "\n",
    "\"\"\"\n",
    "!git push -u origin master\n",
    "\n",
    "Username for 'https://github.com': user33456\n",
    "Password for 'https://user33456@github.com': \n",
    "Counting objects: 21, done.\n",
    "Delta compression using up to 4 threads.\n",
    "Compressing objects: 100% (21/21), done.\n",
    "Writing objects: 100% (21/21), 2.02 KiB | 0 bytes/s, done.\n",
    "Total 21 (delta 7), reused 0 (delta 0)\n",
    "remote: Resolving deltas: 100% (7/7), done.\n",
    "To https://github.com/user33456/reflections.git\n",
    " * [new branch]      master -> master\n",
    "Branch master set up to track remote branch master from origin.\n",
    "\"\"\""
   ]
  },
  {
   "cell_type": "markdown",
   "metadata": {},
   "source": [
    "### Consider a scenario that a new change (new file or sth) is created directly on github or by another collaborator."
   ]
  },
  {
   "cell_type": "markdown",
   "metadata": {},
   "source": [
    "## `git pull`"
   ]
  },
  {
   "cell_type": "markdown",
   "metadata": {},
   "source": [
    "Run `git pull <remote_name> <branch>`"
   ]
  },
  {
   "cell_type": "code",
   "execution_count": 48,
   "metadata": {
    "collapsed": false
   },
   "outputs": [
    {
     "name": "stdout",
     "output_type": "stream",
     "text": [
      "remote: Counting objects: 3, done.\u001b[K\n",
      "remote: Compressing objects: 100% (2/2), done.\u001b[K\n",
      "remote: Total 3 (delta 0), reused 0 (delta 0), pack-reused 0\u001b[K\n",
      "Unpacking objects: 100% (3/3), done.\n",
      "From https://github.com/user33456/reflections\n",
      " * branch            master     -> FETCH_HEAD\n",
      "   a7dfa8a..6cdce1e  master     -> origin/master\n",
      "Updating a7dfa8a..6cdce1e\n",
      "Fast-forward\n",
      " new_github_file.txt | 1 \u001b[32m+\u001b[m\n",
      " 1 file changed, 1 insertion(+)\n",
      " create mode 100644 new_github_file.txt\n"
     ]
    }
   ],
   "source": [
    "!git pull origin master"
   ]
  },
  {
   "cell_type": "markdown",
   "metadata": {},
   "source": [
    "As you see above, the new file that was created on GitHub now synced and came to local directory."
   ]
  },
  {
   "cell_type": "markdown",
   "metadata": {},
   "source": [
    "### Forking \n",
    "\n",
    "### You can Fork anyone's repo on Github by clicking \"Fork\". The get the url address and do a clone locally. Note that your forked repo is automatically setup as a remote so you can easily \"push\" your changes back to your forked repo."
   ]
  },
  {
   "cell_type": "markdown",
   "metadata": {},
   "source": [
    "### Merging local and remote repos (in case of conflicts):\n",
    "\n",
    "After doing a pull from a remote, we would locally have a branch called \"remote_name/branch\" (e.g. origin/master). If there has been commits on local as well of github, then a simple pull will result in a conflict that we have a solve. Doing a __`git fetch`__ simply will fetch the tip of the origin/master branch and it will branch it form its latest common point avoiding a conflict."
   ]
  },
  {
   "cell_type": "markdown",
   "metadata": {},
   "source": [
    "![title](git_fetch.tiff)"
   ]
  },
  {
   "cell_type": "markdown",
   "metadata": {},
   "source": [
    "In this case a `git pull` will do exactly that followed by a merging of the origin/master with the master.\n",
    "\n",
    "__`git pull origin master`__ = __`git fetch origin`__ + __`git merge master origin/master`__"
   ]
  },
  {
   "cell_type": "markdown",
   "metadata": {},
   "source": [
    "![title](git_fetch2.tiff)"
   ]
  },
  {
   "cell_type": "markdown",
   "metadata": {},
   "source": [
    "## Pull Request\n",
    "\n",
    "A pull request is a way to share/suggest a change to be applied in either your own fork (collaboration with others) or the original repo you forked from.\n",
    "\n",
    "When you create a pull request the collaborators can see the differences and comment on it before this change is approved to be \"pulled\" into the master branch of the forked repo or the original repo."
   ]
  },
  {
   "cell_type": "markdown",
   "metadata": {},
   "source": [
    "## Collaboration flow\n",
    "\n",
    "So in a typical collaboration environment this is a typical way to contribute to a project were lots of others are also contributing:\n",
    "\n",
    "__Fork__ a repo $\\implies$ __clone__ to local $\\implies$ Make a __ new branch__ (important to not work directly on master) $\\implies$ Keep pulling origin/master to you master as you are woking on your branch $\\implies$ make a __pull request__ $\\implies$ finally have your changes be __merged__ to origin/master by someone with the authority."
   ]
  },
  {
   "cell_type": "code",
   "execution_count": null,
   "metadata": {
    "collapsed": true
   },
   "outputs": [],
   "source": []
  }
 ],
 "metadata": {
  "anaconda-cloud": {},
  "kernelspec": {
   "display_name": "Python [conda env:DAND]",
   "language": "python",
   "name": "conda-env-DAND-py"
  },
  "language_info": {
   "codemirror_mode": {
    "name": "ipython",
    "version": 2
   },
   "file_extension": ".py",
   "mimetype": "text/x-python",
   "name": "python",
   "nbconvert_exporter": "python",
   "pygments_lexer": "ipython2",
   "version": "2.7.12"
  }
 },
 "nbformat": 4,
 "nbformat_minor": 2
}
